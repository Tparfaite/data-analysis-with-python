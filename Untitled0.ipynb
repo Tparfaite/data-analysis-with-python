{
  "cells": [
    {
      "cell_type": "markdown",
      "metadata": {
        "id": "view-in-github",
        "colab_type": "text"
      },
      "source": [
        "<a href=\"https://colab.research.google.com/github/Tparfaite/data-analysis-with-python/blob/main/Untitled0.ipynb\" target=\"_parent\"><img src=\"https://colab.research.google.com/assets/colab-badge.svg\" alt=\"Open In Colab\"/></a>"
      ]
    },
    {
      "cell_type": "code",
      "execution_count": null,
      "metadata": {
        "id": "k_t9g_zZ511B"
      },
      "outputs": [],
      "source": []
    },
    {
      "cell_type": "code",
      "execution_count": null,
      "metadata": {
        "colab": {
          "base_uri": "https://localhost:8080/"
        },
        "id": "CdpaLHJX6ruE",
        "outputId": "bf0d5900-d73e-46b2-ef98-60f3e21d6b78"
      },
      "outputs": [
        {
          "name": "stdout",
          "output_type": "stream",
          "text": [
            "0\n"
          ]
        }
      ],
      "source": [
        "a=5\n",
        "b=5\n",
        "solution=0\n",
        "if a==b:\n",
        "  solution=a-b\n",
        "  print(solution)\n",
        "else:\n",
        "  solution=a+b\n",
        "  print(solution)"
      ]
    },
    {
      "cell_type": "markdown",
      "metadata": {
        "id": "_vYYIb_2j0hB"
      },
      "source": [
        "**Python Assignment#1 Educonnect**\n",
        "\n",
        "\n",
        "  Q1. Integer methods"
      ]
    },
    {
      "cell_type": "code",
      "execution_count": null,
      "metadata": {
        "colab": {
          "base_uri": "https://localhost:8080/"
        },
        "id": "2D34S5hykdu4",
        "outputId": "e025114c-8b3d-4c4e-a1f4-f83ba111501d"
      },
      "outputs": [
        {
          "name": "stdout",
          "output_type": "stream",
          "text": [
            "12345\n",
            "5\n",
            "12345\n"
          ]
        }
      ],
      "source": [
        "x = 12345\n",
        "x_str = str(x)\n",
        "x_str_len = len(x_str)\n",
        "x_str_to_int = int(x_str)\n",
        "print(x_str)\n",
        "print(x_str_len)\n",
        "print(x_str_to_int)"
      ]
    },
    {
      "cell_type": "markdown",
      "metadata": {
        "id": "sELIquxIl1UZ"
      },
      "source": [
        "Q2. List methods"
      ]
    },
    {
      "cell_type": "code",
      "execution_count": null,
      "metadata": {
        "colab": {
          "background_save": true,
          "base_uri": "https://localhost:8080/"
        },
        "id": "8VKRyw43l_-p",
        "outputId": "fcdbf1d8-cb3c-4ca9-b36b-816afd8722c0"
      },
      "outputs": [
        {
          "name": "stdout",
          "output_type": "stream",
          "text": [
            "[20, 30, 40, 50, 60]\n"
          ]
        }
      ],
      "source": [
        "numbers = [10,20,30,40,50]\n",
        "numbers.append(60)\n",
        "numbers.pop(0)\n",
        "numbers.sort(reverse=True)\n",
        "print(numbers)"
      ]
    },
    {
      "cell_type": "code",
      "execution_count": null,
      "metadata": {
        "id": "EGsASp9s7Qt7"
      },
      "outputs": [],
      "source": []
    },
    {
      "cell_type": "code",
      "execution_count": null,
      "metadata": {
        "colab": {
          "base_uri": "https://localhost:8080/"
        },
        "id": "DlqqETQjA2vb",
        "outputId": "8144823f-aa16-4043-92f2-2be1cc165af2"
      },
      "outputs": [
        {
          "name": "stdout",
          "output_type": "stream",
          "text": [
            "Enter a number: 7\n",
            "7\n",
            "6\n",
            "5\n",
            "4\n",
            "3\n",
            "2\n",
            "1\n",
            "0\n"
          ]
        }
      ],
      "source": [
        "# Function to display integers below the given number down to 0\n",
        "def display_integers_below(n):\n",
        "    if n >= 0:\n",
        "        for i in range(n, -1, -1):\n",
        "            print(i)\n",
        "    else:\n",
        "        print(\"Please enter a positive integer.\")\n",
        "\n",
        "# Input from the user\n",
        "number = int(input(\"Enter a number: \"))\n",
        "display_integers_below(number)\n"
      ]
    },
    {
      "cell_type": "code",
      "execution_count": null,
      "metadata": {
        "id": "g6viMCd9p5wV"
      },
      "outputs": [],
      "source": []
    },
    {
      "cell_type": "code",
      "execution_count": null,
      "metadata": {
        "colab": {
          "base_uri": "https://localhost:8080/"
        },
        "id": "FEHMeryiA4wU",
        "outputId": "8c391b3e-adb6-4c1b-c807-87d83863565c"
      },
      "outputs": [
        {
          "name": "stdout",
          "output_type": "stream",
          "text": [
            "Enter number a: 8\n",
            "8\n"
          ]
        }
      ],
      "source": [
        "b=int(input(\"Enter number a: \"))\n",
        "print(b)\n",
        "\n"
      ]
    },
    {
      "cell_type": "code",
      "execution_count": null,
      "metadata": {
        "colab": {
          "background_save": true,
          "base_uri": "https://localhost:8080/"
        },
        "id": "XEJuwbUtJwBg",
        "outputId": "b51cbace-f620-4745-d085-5ce3ea54f682"
      },
      "outputs": [
        {
          "name": "stdout",
          "output_type": "stream",
          "text": [
            "4\n",
            "Text contains the word 'data' \n"
          ]
        }
      ],
      "source": [
        "import random\n",
        "\n",
        "print(random.randrange(2,10))\n",
        "\n",
        "text=\"Data science is important\"\n",
        "if \"data\" in text.lower():\n",
        "  print(\"Text contains the word 'data' \")\n",
        "else:\n",
        "  print(\"Text doesn't contain the word 'data' \")\n",
        "\n",
        "date = int(input(\"Enter the date: \"))\n",
        "month = int(input(\"Enter the month: \"))\n",
        "year = int(input(\"Enter year: \"))\n",
        "delivery_date = date + 7\n",
        "\n",
        "\n",
        "\n",
        "if month < 4:\n",
        "  if delivery_date > 30:\n",
        "    delivery_date = delivery_date - 30\n",
        "    delivery_month = month + 10\n",
        "    delivery_year = year\n",
        "  else:\n",
        "    delivery_month = month + 10\n",
        "    delivery_year = year\n",
        "else:\n",
        "  if delivery_date > 30:\n",
        "    delivery_date = delivery_date - 30\n",
        "    delivery_month = month - 2\n",
        "    delivery_year = year + 1\n",
        "  else:\n",
        "    delivery_month = month -3\n",
        "    delivery_year = year + 1\n",
        "\n",
        "\n",
        "print(\"Your EDD is\", delivery_date, delivery_month, delivery_year)\n",
        "\n",
        "\n"
      ]
    },
    {
      "cell_type": "code",
      "execution_count": null,
      "metadata": {
        "colab": {
          "base_uri": "https://localhost:8080/"
        },
        "id": "jrzFK3g5TyE0",
        "outputId": "2cbba382-7bd4-406c-fbd3-e1dc0e8be6d1"
      },
      "outputs": [
        {
          "name": "stdout",
          "output_type": "stream",
          "text": [
            "<class 'int'>\n"
          ]
        }
      ],
      "source": [
        "x=12345\n",
        "x_str = str(x)\n",
        "print(type(x))"
      ]
    },
    {
      "cell_type": "code",
      "execution_count": null,
      "metadata": {
        "colab": {
          "base_uri": "https://localhost:8080/"
        },
        "id": "iuW3Ofv3VZvZ",
        "outputId": "d9495b4e-4f07-45d4-af46-d51b86ce394d"
      },
      "outputs": [
        {
          "name": "stdout",
          "output_type": "stream",
          "text": [
            "[30, 40, 50, 60]\n",
            "None\n"
          ]
        }
      ],
      "source": [
        "numbers = [10,20,30,40,50]\n",
        "numbers.append(60)\n",
        "numbers.remove(20)\n",
        "numbers.pop(0)\n",
        "reversed_numbers=numbers.sort()\n",
        "print(numbers)\n",
        "print(reversed_numbers)"
      ]
    },
    {
      "cell_type": "code",
      "execution_count": null,
      "metadata": {
        "colab": {
          "base_uri": "https://localhost:8080/"
        },
        "id": "IrsEkPwba3XZ",
        "outputId": "f99b33ba-c21a-40bd-8409-6594b76b4d35"
      },
      "outputs": [
        {
          "name": "stdout",
          "output_type": "stream",
          "text": [
            "1\n",
            "{'name': 'parfaite', 'email': 'pacha@gmail.com', 'phone': '0990', 'country': 'Rwanda', 'cell': 'susa'}\n"
          ]
        },
        {
          "data": {
            "text/plain": [
              "dict"
            ]
          },
          "execution_count": 15,
          "metadata": {},
          "output_type": "execute_result"
        }
      ],
      "source": [
        "data=[1,3,5,6]\n",
        "print(data.index(3))\n",
        "\n",
        "\n",
        "my_bio = {\n",
        "    \"name\":\"parfaite\",\n",
        "    \"email\":\"pacha@gmail.com\",\n",
        "    \"phone\":\"0990\",\n",
        "    \"country\":\"Rwanda\"\n",
        "}\n",
        "my_bio.update({\"cell\":\"susa\"})\n",
        "print(my_bio)\n",
        "type(my_bio)"
      ]
    },
    {
      "cell_type": "code",
      "execution_count": null,
      "metadata": {
        "id": "Abl22KZXxm7C"
      },
      "outputs": [],
      "source": []
    },
    {
      "cell_type": "markdown",
      "source": [
        "**PANDAS**"
      ],
      "metadata": {
        "id": "TRPOb6g12NSd"
      }
    },
    {
      "cell_type": "code",
      "source": [
        "import pandas as pd\n",
        "sales = [100,20,20,390,47,56,6]\n",
        "data_nan = [1,2,None,5,7,8]\n",
        "data_with_nan = pd.Series(data_nan)\n",
        "print(data_with_nan.isnull())\n",
        "filled_data=data_with_nan.fillna(data_with_nan.mean())\n",
        "print(\"filled data \\n\",filled_data)\n",
        "data = pd.Series(sales)\n",
        "# print(\"mean \",data.mean())\n",
        "# print(\"mode \",data.mode())\n",
        "# print(\"count \",data.count())\n",
        "# print(\"descriptive \",data.describe())\n"
      ],
      "metadata": {
        "colab": {
          "base_uri": "https://localhost:8080/"
        },
        "id": "snZNHYBY2Q1U",
        "outputId": "566c759b-ad29-419f-a81a-b23736afa287"
      },
      "execution_count": 24,
      "outputs": [
        {
          "output_type": "stream",
          "name": "stdout",
          "text": [
            "0    False\n",
            "1    False\n",
            "2     True\n",
            "3    False\n",
            "4    False\n",
            "5    False\n",
            "dtype: bool\n",
            "filled data \n",
            " 0    1.0\n",
            "1    2.0\n",
            "2    4.6\n",
            "3    5.0\n",
            "4    7.0\n",
            "5    8.0\n",
            "dtype: float64\n"
          ]
        }
      ]
    },
    {
      "cell_type": "code",
      "source": [],
      "metadata": {
        "id": "FKGvPj_M7tmb"
      },
      "execution_count": null,
      "outputs": []
    },
    {
      "cell_type": "markdown",
      "source": [],
      "metadata": {
        "id": "0QS23YIhLlhM"
      }
    },
    {
      "cell_type": "markdown",
      "source": [],
      "metadata": {
        "id": "bGinMbemLldE"
      }
    },
    {
      "cell_type": "markdown",
      "source": [
        "Dataframe"
      ],
      "metadata": {
        "id": "twNjV9fuLju4"
      }
    },
    {
      "cell_type": "code",
      "source": [
        "import pandas as pd\n",
        "my_clients = {\n",
        "    \"names\":['hirwa','ganza','aime','keza'],\n",
        "    \"age\":[21,32,22,30],\n",
        "    \"favorite\":['isabune','gas','amakara','dodo'],\n",
        "    \"location\":[\"kagarama\",'niboye','nyanza','gatenga'],\n",
        "    \"transport\":['amaguru','moto','igare','amaguru'],\n",
        "\n",
        "\n",
        "}\n",
        "my_dataframe = pd.DataFrame(my_clients)\n",
        "print(my_dataframe)\n",
        "\n",
        "my_dataframe.describe()"
      ],
      "metadata": {
        "colab": {
          "base_uri": "https://localhost:8080/",
          "height": 387
        },
        "id": "2XE7IritLm_3",
        "outputId": "608df499-dfc5-4489-a31a-a542b8263e66"
      },
      "execution_count": 28,
      "outputs": [
        {
          "output_type": "stream",
          "name": "stdout",
          "text": [
            "   names  age favorite  location transport\n",
            "0  hirwa   21  isabune  kagarama   amaguru\n",
            "1  ganza   32      gas    niboye      moto\n",
            "2   aime   22  amakara    nyanza     igare\n",
            "3   keza   30     dodo   gatenga   amaguru\n"
          ]
        },
        {
          "output_type": "execute_result",
          "data": {
            "text/plain": [
              "             age\n",
              "count   4.000000\n",
              "mean   26.250000\n",
              "std     5.560276\n",
              "min    21.000000\n",
              "25%    21.750000\n",
              "50%    26.000000\n",
              "75%    30.500000\n",
              "max    32.000000"
            ],
            "text/html": [
              "\n",
              "  <div id=\"df-1428724b-b2e2-430d-8b55-f4ba4b9bf52e\" class=\"colab-df-container\">\n",
              "    <div>\n",
              "<style scoped>\n",
              "    .dataframe tbody tr th:only-of-type {\n",
              "        vertical-align: middle;\n",
              "    }\n",
              "\n",
              "    .dataframe tbody tr th {\n",
              "        vertical-align: top;\n",
              "    }\n",
              "\n",
              "    .dataframe thead th {\n",
              "        text-align: right;\n",
              "    }\n",
              "</style>\n",
              "<table border=\"1\" class=\"dataframe\">\n",
              "  <thead>\n",
              "    <tr style=\"text-align: right;\">\n",
              "      <th></th>\n",
              "      <th>age</th>\n",
              "    </tr>\n",
              "  </thead>\n",
              "  <tbody>\n",
              "    <tr>\n",
              "      <th>count</th>\n",
              "      <td>4.000000</td>\n",
              "    </tr>\n",
              "    <tr>\n",
              "      <th>mean</th>\n",
              "      <td>26.250000</td>\n",
              "    </tr>\n",
              "    <tr>\n",
              "      <th>std</th>\n",
              "      <td>5.560276</td>\n",
              "    </tr>\n",
              "    <tr>\n",
              "      <th>min</th>\n",
              "      <td>21.000000</td>\n",
              "    </tr>\n",
              "    <tr>\n",
              "      <th>25%</th>\n",
              "      <td>21.750000</td>\n",
              "    </tr>\n",
              "    <tr>\n",
              "      <th>50%</th>\n",
              "      <td>26.000000</td>\n",
              "    </tr>\n",
              "    <tr>\n",
              "      <th>75%</th>\n",
              "      <td>30.500000</td>\n",
              "    </tr>\n",
              "    <tr>\n",
              "      <th>max</th>\n",
              "      <td>32.000000</td>\n",
              "    </tr>\n",
              "  </tbody>\n",
              "</table>\n",
              "</div>\n",
              "    <div class=\"colab-df-buttons\">\n",
              "\n",
              "  <div class=\"colab-df-container\">\n",
              "    <button class=\"colab-df-convert\" onclick=\"convertToInteractive('df-1428724b-b2e2-430d-8b55-f4ba4b9bf52e')\"\n",
              "            title=\"Convert this dataframe to an interactive table.\"\n",
              "            style=\"display:none;\">\n",
              "\n",
              "  <svg xmlns=\"http://www.w3.org/2000/svg\" height=\"24px\" viewBox=\"0 -960 960 960\">\n",
              "    <path d=\"M120-120v-720h720v720H120Zm60-500h600v-160H180v160Zm220 220h160v-160H400v160Zm0 220h160v-160H400v160ZM180-400h160v-160H180v160Zm440 0h160v-160H620v160ZM180-180h160v-160H180v160Zm440 0h160v-160H620v160Z\"/>\n",
              "  </svg>\n",
              "    </button>\n",
              "\n",
              "  <style>\n",
              "    .colab-df-container {\n",
              "      display:flex;\n",
              "      gap: 12px;\n",
              "    }\n",
              "\n",
              "    .colab-df-convert {\n",
              "      background-color: #E8F0FE;\n",
              "      border: none;\n",
              "      border-radius: 50%;\n",
              "      cursor: pointer;\n",
              "      display: none;\n",
              "      fill: #1967D2;\n",
              "      height: 32px;\n",
              "      padding: 0 0 0 0;\n",
              "      width: 32px;\n",
              "    }\n",
              "\n",
              "    .colab-df-convert:hover {\n",
              "      background-color: #E2EBFA;\n",
              "      box-shadow: 0px 1px 2px rgba(60, 64, 67, 0.3), 0px 1px 3px 1px rgba(60, 64, 67, 0.15);\n",
              "      fill: #174EA6;\n",
              "    }\n",
              "\n",
              "    .colab-df-buttons div {\n",
              "      margin-bottom: 4px;\n",
              "    }\n",
              "\n",
              "    [theme=dark] .colab-df-convert {\n",
              "      background-color: #3B4455;\n",
              "      fill: #D2E3FC;\n",
              "    }\n",
              "\n",
              "    [theme=dark] .colab-df-convert:hover {\n",
              "      background-color: #434B5C;\n",
              "      box-shadow: 0px 1px 3px 1px rgba(0, 0, 0, 0.15);\n",
              "      filter: drop-shadow(0px 1px 2px rgba(0, 0, 0, 0.3));\n",
              "      fill: #FFFFFF;\n",
              "    }\n",
              "  </style>\n",
              "\n",
              "    <script>\n",
              "      const buttonEl =\n",
              "        document.querySelector('#df-1428724b-b2e2-430d-8b55-f4ba4b9bf52e button.colab-df-convert');\n",
              "      buttonEl.style.display =\n",
              "        google.colab.kernel.accessAllowed ? 'block' : 'none';\n",
              "\n",
              "      async function convertToInteractive(key) {\n",
              "        const element = document.querySelector('#df-1428724b-b2e2-430d-8b55-f4ba4b9bf52e');\n",
              "        const dataTable =\n",
              "          await google.colab.kernel.invokeFunction('convertToInteractive',\n",
              "                                                    [key], {});\n",
              "        if (!dataTable) return;\n",
              "\n",
              "        const docLinkHtml = 'Like what you see? Visit the ' +\n",
              "          '<a target=\"_blank\" href=https://colab.research.google.com/notebooks/data_table.ipynb>data table notebook</a>'\n",
              "          + ' to learn more about interactive tables.';\n",
              "        element.innerHTML = '';\n",
              "        dataTable['output_type'] = 'display_data';\n",
              "        await google.colab.output.renderOutput(dataTable, element);\n",
              "        const docLink = document.createElement('div');\n",
              "        docLink.innerHTML = docLinkHtml;\n",
              "        element.appendChild(docLink);\n",
              "      }\n",
              "    </script>\n",
              "  </div>\n",
              "\n",
              "\n",
              "<div id=\"df-52026be5-95d4-4c3a-8779-f58da78d063d\">\n",
              "  <button class=\"colab-df-quickchart\" onclick=\"quickchart('df-52026be5-95d4-4c3a-8779-f58da78d063d')\"\n",
              "            title=\"Suggest charts\"\n",
              "            style=\"display:none;\">\n",
              "\n",
              "<svg xmlns=\"http://www.w3.org/2000/svg\" height=\"24px\"viewBox=\"0 0 24 24\"\n",
              "     width=\"24px\">\n",
              "    <g>\n",
              "        <path d=\"M19 3H5c-1.1 0-2 .9-2 2v14c0 1.1.9 2 2 2h14c1.1 0 2-.9 2-2V5c0-1.1-.9-2-2-2zM9 17H7v-7h2v7zm4 0h-2V7h2v10zm4 0h-2v-4h2v4z\"/>\n",
              "    </g>\n",
              "</svg>\n",
              "  </button>\n",
              "\n",
              "<style>\n",
              "  .colab-df-quickchart {\n",
              "      --bg-color: #E8F0FE;\n",
              "      --fill-color: #1967D2;\n",
              "      --hover-bg-color: #E2EBFA;\n",
              "      --hover-fill-color: #174EA6;\n",
              "      --disabled-fill-color: #AAA;\n",
              "      --disabled-bg-color: #DDD;\n",
              "  }\n",
              "\n",
              "  [theme=dark] .colab-df-quickchart {\n",
              "      --bg-color: #3B4455;\n",
              "      --fill-color: #D2E3FC;\n",
              "      --hover-bg-color: #434B5C;\n",
              "      --hover-fill-color: #FFFFFF;\n",
              "      --disabled-bg-color: #3B4455;\n",
              "      --disabled-fill-color: #666;\n",
              "  }\n",
              "\n",
              "  .colab-df-quickchart {\n",
              "    background-color: var(--bg-color);\n",
              "    border: none;\n",
              "    border-radius: 50%;\n",
              "    cursor: pointer;\n",
              "    display: none;\n",
              "    fill: var(--fill-color);\n",
              "    height: 32px;\n",
              "    padding: 0;\n",
              "    width: 32px;\n",
              "  }\n",
              "\n",
              "  .colab-df-quickchart:hover {\n",
              "    background-color: var(--hover-bg-color);\n",
              "    box-shadow: 0 1px 2px rgba(60, 64, 67, 0.3), 0 1px 3px 1px rgba(60, 64, 67, 0.15);\n",
              "    fill: var(--button-hover-fill-color);\n",
              "  }\n",
              "\n",
              "  .colab-df-quickchart-complete:disabled,\n",
              "  .colab-df-quickchart-complete:disabled:hover {\n",
              "    background-color: var(--disabled-bg-color);\n",
              "    fill: var(--disabled-fill-color);\n",
              "    box-shadow: none;\n",
              "  }\n",
              "\n",
              "  .colab-df-spinner {\n",
              "    border: 2px solid var(--fill-color);\n",
              "    border-color: transparent;\n",
              "    border-bottom-color: var(--fill-color);\n",
              "    animation:\n",
              "      spin 1s steps(1) infinite;\n",
              "  }\n",
              "\n",
              "  @keyframes spin {\n",
              "    0% {\n",
              "      border-color: transparent;\n",
              "      border-bottom-color: var(--fill-color);\n",
              "      border-left-color: var(--fill-color);\n",
              "    }\n",
              "    20% {\n",
              "      border-color: transparent;\n",
              "      border-left-color: var(--fill-color);\n",
              "      border-top-color: var(--fill-color);\n",
              "    }\n",
              "    30% {\n",
              "      border-color: transparent;\n",
              "      border-left-color: var(--fill-color);\n",
              "      border-top-color: var(--fill-color);\n",
              "      border-right-color: var(--fill-color);\n",
              "    }\n",
              "    40% {\n",
              "      border-color: transparent;\n",
              "      border-right-color: var(--fill-color);\n",
              "      border-top-color: var(--fill-color);\n",
              "    }\n",
              "    60% {\n",
              "      border-color: transparent;\n",
              "      border-right-color: var(--fill-color);\n",
              "    }\n",
              "    80% {\n",
              "      border-color: transparent;\n",
              "      border-right-color: var(--fill-color);\n",
              "      border-bottom-color: var(--fill-color);\n",
              "    }\n",
              "    90% {\n",
              "      border-color: transparent;\n",
              "      border-bottom-color: var(--fill-color);\n",
              "    }\n",
              "  }\n",
              "</style>\n",
              "\n",
              "  <script>\n",
              "    async function quickchart(key) {\n",
              "      const quickchartButtonEl =\n",
              "        document.querySelector('#' + key + ' button');\n",
              "      quickchartButtonEl.disabled = true;  // To prevent multiple clicks.\n",
              "      quickchartButtonEl.classList.add('colab-df-spinner');\n",
              "      try {\n",
              "        const charts = await google.colab.kernel.invokeFunction(\n",
              "            'suggestCharts', [key], {});\n",
              "      } catch (error) {\n",
              "        console.error('Error during call to suggestCharts:', error);\n",
              "      }\n",
              "      quickchartButtonEl.classList.remove('colab-df-spinner');\n",
              "      quickchartButtonEl.classList.add('colab-df-quickchart-complete');\n",
              "    }\n",
              "    (() => {\n",
              "      let quickchartButtonEl =\n",
              "        document.querySelector('#df-52026be5-95d4-4c3a-8779-f58da78d063d button');\n",
              "      quickchartButtonEl.style.display =\n",
              "        google.colab.kernel.accessAllowed ? 'block' : 'none';\n",
              "    })();\n",
              "  </script>\n",
              "</div>\n",
              "\n",
              "    </div>\n",
              "  </div>\n"
            ],
            "application/vnd.google.colaboratory.intrinsic+json": {
              "type": "dataframe",
              "summary": "{\n  \"name\": \"my_dataframe\",\n  \"rows\": 8,\n  \"fields\": [\n    {\n      \"column\": \"age\",\n      \"properties\": {\n        \"dtype\": \"number\",\n        \"std\": 10.634510526832205,\n        \"min\": 4.0,\n        \"max\": 32.0,\n        \"num_unique_values\": 8,\n        \"samples\": [\n          26.25,\n          26.0,\n          4.0\n        ],\n        \"semantic_type\": \"\",\n        \"description\": \"\"\n      }\n    }\n  ]\n}"
            }
          },
          "metadata": {},
          "execution_count": 28
        }
      ]
    },
    {
      "cell_type": "code",
      "source": [
        "import pandas as pd\n",
        "nyc_data = pd.read_csv(\"/content/nyc-rolling-sales.csv\")\n",
        "\n",
        "nyc_data  #reading all data\n",
        "nyc_data.columns  #reading only columns\n",
        "nyc_first = nyc_data.head()    #first 5 data by default\n",
        "# print(nyc_first)\n",
        "nyc_last = nyc_data.tail()     #last 5 data by default\n",
        "nyc_last = nyc_data.sample()   #random sample\n",
        "nyc_info = nyc_data.info()\n",
        "print(\"mmm\",nyc_info)\n",
        "print(nyc_last)\n",
        "null = nyc_data.isnull().tail(1)\n",
        "print(null)"
      ],
      "metadata": {
        "colab": {
          "base_uri": "https://localhost:8080/"
        },
        "id": "hNhe9spuQR-x",
        "outputId": "a340a4b2-fc6b-485f-e06e-d16a3e31bed1"
      },
      "execution_count": 18,
      "outputs": [
        {
          "output_type": "stream",
          "name": "stdout",
          "text": [
            "<class 'pandas.core.frame.DataFrame'>\n",
            "RangeIndex: 84548 entries, 0 to 84547\n",
            "Data columns (total 22 columns):\n",
            " #   Column                          Non-Null Count  Dtype \n",
            "---  ------                          --------------  ----- \n",
            " 0   Unnamed: 0                      84548 non-null  int64 \n",
            " 1   BOROUGH                         84548 non-null  int64 \n",
            " 2   NEIGHBORHOOD                    84548 non-null  object\n",
            " 3   BUILDING CLASS CATEGORY         84548 non-null  object\n",
            " 4   TAX CLASS AT PRESENT            84548 non-null  object\n",
            " 5   BLOCK                           84548 non-null  int64 \n",
            " 6   LOT                             84548 non-null  int64 \n",
            " 7   EASE-MENT                       84548 non-null  object\n",
            " 8   BUILDING CLASS AT PRESENT       84548 non-null  object\n",
            " 9   ADDRESS                         84548 non-null  object\n",
            " 10  APARTMENT NUMBER                84548 non-null  object\n",
            " 11  ZIP CODE                        84548 non-null  int64 \n",
            " 12  RESIDENTIAL UNITS               84548 non-null  int64 \n",
            " 13  COMMERCIAL UNITS                84548 non-null  int64 \n",
            " 14  TOTAL UNITS                     84548 non-null  int64 \n",
            " 15  LAND SQUARE FEET                84548 non-null  object\n",
            " 16  GROSS SQUARE FEET               84548 non-null  object\n",
            " 17  YEAR BUILT                      84548 non-null  int64 \n",
            " 18  TAX CLASS AT TIME OF SALE       84548 non-null  int64 \n",
            " 19  BUILDING CLASS AT TIME OF SALE  84548 non-null  object\n",
            " 20  SALE PRICE                      84548 non-null  object\n",
            " 21  SALE DATE                       84548 non-null  object\n",
            "dtypes: int64(10), object(12)\n",
            "memory usage: 14.2+ MB\n",
            "mmm None\n",
            "       Unnamed: 0  BOROUGH NEIGHBORHOOD  \\\n",
            "64678       15280        4      JAMAICA   \n",
            "\n",
            "                           BUILDING CLASS CATEGORY TAX CLASS AT PRESENT  \\\n",
            "64678  07 RENTALS - WALKUP APARTMENTS                                 2   \n",
            "\n",
            "       BLOCK  LOT EASE-MENT BUILDING CLASS AT PRESENT                 ADDRESS  \\\n",
            "64678   9702   76                                  C1  146-01 HILLSIDE AVENUE   \n",
            "\n",
            "       ... RESIDENTIAL UNITS  COMMERCIAL UNITS  TOTAL UNITS  LAND SQUARE FEET  \\\n",
            "64678  ...                16                 0           16              4000   \n",
            "\n",
            "       GROSS SQUARE FEET YEAR BUILT TAX CLASS AT TIME OF SALE  \\\n",
            "64678              14280       1931                         2   \n",
            "\n",
            "       BUILDING CLASS AT TIME OF SALE  SALE PRICE            SALE DATE  \n",
            "64678                              C1     3000000  2016-10-20 00:00:00  \n",
            "\n",
            "[1 rows x 22 columns]\n",
            "       Unnamed: 0  BOROUGH  NEIGHBORHOOD  BUILDING CLASS CATEGORY  \\\n",
            "84547       False    False         False                    False   \n",
            "\n",
            "       TAX CLASS AT PRESENT  BLOCK    LOT  EASE-MENT  \\\n",
            "84547                 False  False  False      False   \n",
            "\n",
            "       BUILDING CLASS AT PRESENT  ADDRESS  ...  RESIDENTIAL UNITS  \\\n",
            "84547                      False    False  ...              False   \n",
            "\n",
            "       COMMERCIAL UNITS  TOTAL UNITS  LAND SQUARE FEET  GROSS SQUARE FEET  \\\n",
            "84547             False        False             False              False   \n",
            "\n",
            "       YEAR BUILT  TAX CLASS AT TIME OF SALE  BUILDING CLASS AT TIME OF SALE  \\\n",
            "84547       False                      False                           False   \n",
            "\n",
            "       SALE PRICE  SALE DATE  \n",
            "84547       False      False  \n",
            "\n",
            "[1 rows x 22 columns]\n"
          ]
        }
      ]
    },
    {
      "cell_type": "markdown",
      "source": [
        "**DATA CLEANING WITH PANDAS**\n",
        "\n",
        "Handling missing values\n"
      ],
      "metadata": {
        "id": "WZtikdwrHg_R"
      }
    },
    {
      "cell_type": "code",
      "source": [
        "import pandas as pd\n",
        "data = {\n",
        "    \"user_id\":[101,102,103,104,105],\n",
        "    \"phone_usage_hrs\":[4.5,None,5.5,5.5,None],\n",
        "    \"prod_score\":[85,60,None,75,50],\n",
        "\n",
        "}\n",
        "data_frame=pd.DataFrame(data)\n",
        "print(data_frame)\n",
        "data_frame.columns ##checking columns\n",
        "data_frame.info() ##checking info\n",
        "data_frame.isna()\n",
        "data_frame.isnull().sum()\n",
        "\n",
        "# Handling missing values : Data cleaning\n",
        "# USING Dropna()\n",
        "data_frame_cleaned = data_frame.dropna()\n",
        "print(\"cleaned data \\n\",data_frame_cleaned)\n",
        "\n",
        "# Using fillna()\n",
        "data_frame_fillna = data_frame.fillna(data_frame.mean())\n",
        "print(\"cleaning \\n\",data_frame_fillna)\n",
        "\n",
        "# Checking duplicates\n",
        "checkDup_data_frame = data_frame['phone_usage_hrs'].unique()\n",
        "print(checkDup_data_frame)\n",
        "\n",
        "# Droping duplicate\n",
        "data_frame_dup = data_frame.drop_duplicates()\n",
        "print(data_frame_dup)\n",
        "\n",
        "# Selecting, filtering data, replacing values, rename column, drop column,changing data types\n",
        "# SELECTING\n",
        "phone_usage = data_frame['phone_usage_hrs']\n",
        "print(phone_usage)\n",
        "\n",
        "# SELECTING multiple columns\n",
        "phone_usages = data_frame[['user_id','phone_usage_hrs']]\n",
        "\n",
        "# selecting rows by index position\n",
        "first_row = data_frame.iloc[0]\n",
        "print(first_row)\n",
        "\n",
        "# filtering\n",
        "phone_usage_5hrs = data_frame[data_frame['phone_usage_hrs'] > 5]\n",
        "print(phone_usage_5hrs)\n",
        "\n",
        "# filtering with more than 1 conditions\n",
        "# phone_use = data_frame[([data_frame['phone_usage_hrs'] > 5]) & ([data_frame['prod_score'] > 50])]\n",
        "# print(phone_use)"
      ],
      "metadata": {
        "colab": {
          "base_uri": "https://localhost:8080/"
        },
        "id": "1tvDvLpuHpNn",
        "outputId": "5043799d-58cf-43bc-a475-c7d57d8e9ba4"
      },
      "execution_count": 2,
      "outputs": [
        {
          "output_type": "stream",
          "name": "stdout",
          "text": [
            "   user_id  phone_usage_hrs  prod_score\n",
            "0      101              4.5        85.0\n",
            "1      102              NaN        60.0\n",
            "2      103              5.5         NaN\n",
            "3      104              5.5        75.0\n",
            "4      105              NaN        50.0\n",
            "<class 'pandas.core.frame.DataFrame'>\n",
            "RangeIndex: 5 entries, 0 to 4\n",
            "Data columns (total 3 columns):\n",
            " #   Column           Non-Null Count  Dtype  \n",
            "---  ------           --------------  -----  \n",
            " 0   user_id          5 non-null      int64  \n",
            " 1   phone_usage_hrs  3 non-null      float64\n",
            " 2   prod_score       4 non-null      float64\n",
            "dtypes: float64(2), int64(1)\n",
            "memory usage: 248.0 bytes\n",
            "cleaned data \n",
            "    user_id  phone_usage_hrs  prod_score\n",
            "0      101              4.5        85.0\n",
            "3      104              5.5        75.0\n",
            "cleaning \n",
            "    user_id  phone_usage_hrs  prod_score\n",
            "0      101         4.500000        85.0\n",
            "1      102         5.166667        60.0\n",
            "2      103         5.500000        67.5\n",
            "3      104         5.500000        75.0\n",
            "4      105         5.166667        50.0\n",
            "[4.5 nan 5.5]\n",
            "   user_id  phone_usage_hrs  prod_score\n",
            "0      101              4.5        85.0\n",
            "1      102              NaN        60.0\n",
            "2      103              5.5         NaN\n",
            "3      104              5.5        75.0\n",
            "4      105              NaN        50.0\n",
            "0    4.5\n",
            "1    NaN\n",
            "2    5.5\n",
            "3    5.5\n",
            "4    NaN\n",
            "Name: phone_usage_hrs, dtype: float64\n",
            "user_id            101.0\n",
            "phone_usage_hrs      4.5\n",
            "prod_score          85.0\n",
            "Name: 0, dtype: float64\n",
            "   user_id  phone_usage_hrs  prod_score\n",
            "2      103              5.5         NaN\n",
            "3      104              5.5        75.0\n"
          ]
        }
      ]
    },
    {
      "cell_type": "markdown",
      "source": [
        "Data Manipulation"
      ],
      "metadata": {
        "id": "juB9igKfSzbM"
      }
    },
    {
      "cell_type": "code",
      "source": [
        "\n"
      ],
      "metadata": {
        "colab": {
          "base_uri": "https://localhost:8080/",
          "height": 547
        },
        "id": "EHS4AHkES2NH",
        "outputId": "a5330c6b-915d-4a9b-cfcb-bcf82d7e5a45"
      },
      "execution_count": 32,
      "outputs": [
        {
          "output_type": "error",
          "ename": "KeyError",
          "evalue": "'phone_usage-hrs'",
          "traceback": [
            "\u001b[0;31m---------------------------------------------------------------------------\u001b[0m",
            "\u001b[0;31mKeyError\u001b[0m                                  Traceback (most recent call last)",
            "\u001b[0;32m/usr/local/lib/python3.10/dist-packages/pandas/core/indexes/base.py\u001b[0m in \u001b[0;36mget_loc\u001b[0;34m(self, key)\u001b[0m\n\u001b[1;32m   3790\u001b[0m         \u001b[0;32mtry\u001b[0m\u001b[0;34m:\u001b[0m\u001b[0;34m\u001b[0m\u001b[0;34m\u001b[0m\u001b[0m\n\u001b[0;32m-> 3791\u001b[0;31m             \u001b[0;32mreturn\u001b[0m \u001b[0mself\u001b[0m\u001b[0;34m.\u001b[0m\u001b[0m_engine\u001b[0m\u001b[0;34m.\u001b[0m\u001b[0mget_loc\u001b[0m\u001b[0;34m(\u001b[0m\u001b[0mcasted_key\u001b[0m\u001b[0;34m)\u001b[0m\u001b[0;34m\u001b[0m\u001b[0;34m\u001b[0m\u001b[0m\n\u001b[0m\u001b[1;32m   3792\u001b[0m         \u001b[0;32mexcept\u001b[0m \u001b[0mKeyError\u001b[0m \u001b[0;32mas\u001b[0m \u001b[0merr\u001b[0m\u001b[0;34m:\u001b[0m\u001b[0;34m\u001b[0m\u001b[0;34m\u001b[0m\u001b[0m\n",
            "\u001b[0;32mindex.pyx\u001b[0m in \u001b[0;36mpandas._libs.index.IndexEngine.get_loc\u001b[0;34m()\u001b[0m\n",
            "\u001b[0;32mindex.pyx\u001b[0m in \u001b[0;36mpandas._libs.index.IndexEngine.get_loc\u001b[0;34m()\u001b[0m\n",
            "\u001b[0;32mpandas/_libs/hashtable_class_helper.pxi\u001b[0m in \u001b[0;36mpandas._libs.hashtable.PyObjectHashTable.get_item\u001b[0;34m()\u001b[0m\n",
            "\u001b[0;32mpandas/_libs/hashtable_class_helper.pxi\u001b[0m in \u001b[0;36mpandas._libs.hashtable.PyObjectHashTable.get_item\u001b[0;34m()\u001b[0m\n",
            "\u001b[0;31mKeyError\u001b[0m: 'phone_usage-hrs'",
            "\nThe above exception was the direct cause of the following exception:\n",
            "\u001b[0;31mKeyError\u001b[0m                                  Traceback (most recent call last)",
            "\u001b[0;32m<ipython-input-32-4adc5a8c2f40>\u001b[0m in \u001b[0;36m<cell line: 3>\u001b[0;34m()\u001b[0m\n\u001b[1;32m      1\u001b[0m \u001b[0;31m# Selecting, filtering data, replacing values, rename column, drop column,changing data types\u001b[0m\u001b[0;34m\u001b[0m\u001b[0;34m\u001b[0m\u001b[0m\n\u001b[1;32m      2\u001b[0m \u001b[0;31m# SELECTING\u001b[0m\u001b[0;34m\u001b[0m\u001b[0;34m\u001b[0m\u001b[0m\n\u001b[0;32m----> 3\u001b[0;31m \u001b[0mphone_usage\u001b[0m \u001b[0;34m=\u001b[0m \u001b[0mdata_frame\u001b[0m\u001b[0;34m[\u001b[0m\u001b[0;34m'phone_usage-hrs'\u001b[0m\u001b[0;34m]\u001b[0m\u001b[0;34m\u001b[0m\u001b[0;34m\u001b[0m\u001b[0m\n\u001b[0m\u001b[1;32m      4\u001b[0m \u001b[0mprint\u001b[0m\u001b[0;34m(\u001b[0m\u001b[0mphone_usage\u001b[0m\u001b[0;34m)\u001b[0m\u001b[0;34m\u001b[0m\u001b[0;34m\u001b[0m\u001b[0m\n",
            "\u001b[0;32m/usr/local/lib/python3.10/dist-packages/pandas/core/frame.py\u001b[0m in \u001b[0;36m__getitem__\u001b[0;34m(self, key)\u001b[0m\n\u001b[1;32m   3891\u001b[0m             \u001b[0;32mif\u001b[0m \u001b[0mself\u001b[0m\u001b[0;34m.\u001b[0m\u001b[0mcolumns\u001b[0m\u001b[0;34m.\u001b[0m\u001b[0mnlevels\u001b[0m \u001b[0;34m>\u001b[0m \u001b[0;36m1\u001b[0m\u001b[0;34m:\u001b[0m\u001b[0;34m\u001b[0m\u001b[0;34m\u001b[0m\u001b[0m\n\u001b[1;32m   3892\u001b[0m                 \u001b[0;32mreturn\u001b[0m \u001b[0mself\u001b[0m\u001b[0;34m.\u001b[0m\u001b[0m_getitem_multilevel\u001b[0m\u001b[0;34m(\u001b[0m\u001b[0mkey\u001b[0m\u001b[0;34m)\u001b[0m\u001b[0;34m\u001b[0m\u001b[0;34m\u001b[0m\u001b[0m\n\u001b[0;32m-> 3893\u001b[0;31m             \u001b[0mindexer\u001b[0m \u001b[0;34m=\u001b[0m \u001b[0mself\u001b[0m\u001b[0;34m.\u001b[0m\u001b[0mcolumns\u001b[0m\u001b[0;34m.\u001b[0m\u001b[0mget_loc\u001b[0m\u001b[0;34m(\u001b[0m\u001b[0mkey\u001b[0m\u001b[0;34m)\u001b[0m\u001b[0;34m\u001b[0m\u001b[0;34m\u001b[0m\u001b[0m\n\u001b[0m\u001b[1;32m   3894\u001b[0m             \u001b[0;32mif\u001b[0m \u001b[0mis_integer\u001b[0m\u001b[0;34m(\u001b[0m\u001b[0mindexer\u001b[0m\u001b[0;34m)\u001b[0m\u001b[0;34m:\u001b[0m\u001b[0;34m\u001b[0m\u001b[0;34m\u001b[0m\u001b[0m\n\u001b[1;32m   3895\u001b[0m                 \u001b[0mindexer\u001b[0m \u001b[0;34m=\u001b[0m \u001b[0;34m[\u001b[0m\u001b[0mindexer\u001b[0m\u001b[0;34m]\u001b[0m\u001b[0;34m\u001b[0m\u001b[0;34m\u001b[0m\u001b[0m\n",
            "\u001b[0;32m/usr/local/lib/python3.10/dist-packages/pandas/core/indexes/base.py\u001b[0m in \u001b[0;36mget_loc\u001b[0;34m(self, key)\u001b[0m\n\u001b[1;32m   3796\u001b[0m             ):\n\u001b[1;32m   3797\u001b[0m                 \u001b[0;32mraise\u001b[0m \u001b[0mInvalidIndexError\u001b[0m\u001b[0;34m(\u001b[0m\u001b[0mkey\u001b[0m\u001b[0;34m)\u001b[0m\u001b[0;34m\u001b[0m\u001b[0;34m\u001b[0m\u001b[0m\n\u001b[0;32m-> 3798\u001b[0;31m             \u001b[0;32mraise\u001b[0m \u001b[0mKeyError\u001b[0m\u001b[0;34m(\u001b[0m\u001b[0mkey\u001b[0m\u001b[0;34m)\u001b[0m \u001b[0;32mfrom\u001b[0m \u001b[0merr\u001b[0m\u001b[0;34m\u001b[0m\u001b[0;34m\u001b[0m\u001b[0m\n\u001b[0m\u001b[1;32m   3799\u001b[0m         \u001b[0;32mexcept\u001b[0m \u001b[0mTypeError\u001b[0m\u001b[0;34m:\u001b[0m\u001b[0;34m\u001b[0m\u001b[0;34m\u001b[0m\u001b[0m\n\u001b[1;32m   3800\u001b[0m             \u001b[0;31m# If we have a listlike key, _check_indexing_error will raise\u001b[0m\u001b[0;34m\u001b[0m\u001b[0;34m\u001b[0m\u001b[0m\n",
            "\u001b[0;31mKeyError\u001b[0m: 'phone_usage-hrs'"
          ]
        }
      ]
    }
  ],
  "metadata": {
    "colab": {
      "provenance": [],
      "authorship_tag": "ABX9TyNEKYD+QggTfyA8WQ6QbNc7",
      "include_colab_link": true
    },
    "kernelspec": {
      "display_name": "Python 3",
      "name": "python3"
    },
    "language_info": {
      "name": "python"
    }
  },
  "nbformat": 4,
  "nbformat_minor": 0
}